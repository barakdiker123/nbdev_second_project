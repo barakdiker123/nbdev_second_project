{
 "cells": [
  {
   "cell_type": "markdown",
   "id": "1bdeb58f",
   "metadata": {},
   "source": [
    "# Arima Model Implementation \n",
    "> Here is an implementation of arima model. \n",
    "\n"
   ]
  },
  {
   "cell_type": "code",
   "execution_count": null,
   "id": "69ab0c0b",
   "metadata": {},
   "outputs": [],
   "source": [
    "%load_ext autoreload\n",
    "%autoreload 2"
   ]
  },
  {
   "cell_type": "code",
   "execution_count": null,
   "id": "af61f5a9",
   "metadata": {},
   "outputs": [],
   "source": [
    "#| default_exp arima_implement"
   ]
  },
  {
   "cell_type": "code",
   "execution_count": null,
   "id": "7740fd3c",
   "metadata": {},
   "outputs": [],
   "source": [
    "#| hide\n",
    "from nbdev.showdoc import *"
   ]
  },
  {
   "cell_type": "code",
   "execution_count": null,
   "id": "5f531c9a",
   "metadata": {},
   "outputs": [],
   "source": [
    "#| hide\n",
    "def foo(name): \n",
    "    return \"Hello \" + name"
   ]
  },
  {
   "cell_type": "code",
   "execution_count": null,
   "id": "afc779f6",
   "metadata": {},
   "outputs": [],
   "source": [
    "#| hide \n",
    "import pmdarima as pm\n",
    "\n",
    "def create_arima_prediction(series):\n",
    "    auto_arima = pm.auto_arima(series, stepwise=False, seasonal=False)\n",
    "\n"
   ]
  },
  {
   "cell_type": "code",
   "execution_count": null,
   "id": "e29d5fec",
   "metadata": {},
   "outputs": [],
   "source": [
    "#| hide\n",
    "from fastcore.test import *"
   ]
  },
  {
   "cell_type": "code",
   "execution_count": null,
   "id": "d266f4a3",
   "metadata": {},
   "outputs": [],
   "source": [
    "#| hide\n",
    "test_eq(\"Hello Hamel!\", \"Hello Hamel!\")"
   ]
  },
  {
   "cell_type": "code",
   "execution_count": null,
   "id": "8b7b3437",
   "metadata": {},
   "outputs": [],
   "source": [
    "#| hide\n",
    "import nbdev; nbdev.nbdev_export()"
   ]
  }
 ],
 "metadata": {
  "kernelspec": {
   "display_name": "python3",
   "language": "python",
   "name": "python3"
  }
 },
 "nbformat": 4,
 "nbformat_minor": 5
}
