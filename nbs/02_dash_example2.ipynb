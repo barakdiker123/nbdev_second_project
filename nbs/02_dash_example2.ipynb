{
 "cells": [
  {
   "cell_type": "markdown",
   "id": "fd1bbbd2",
   "metadata": {},
   "source": [
    "# Deplot notebook\n",
    "> Creating an interactive environment for comparing stocks \n",
    "\n"
   ]
  },
  {
   "cell_type": "code",
   "execution_count": null,
   "id": "1baf7718",
   "metadata": {},
   "outputs": [],
   "source": [
    "#| default_exp deploy_project"
   ]
  },
  {
   "cell_type": "code",
   "execution_count": null,
   "id": "4efc1d6d",
   "metadata": {},
   "outputs": [],
   "source": [
    "#| export\n",
    "\n",
    "import buy_and_hold_vs_arima\n",
    "import yfinance as yf\n",
    "import pandas as pd\n",
    "import dash\n",
    "from dash import dcc\n",
    "from dash import html\n",
    "from dash.dependencies import Output, Input\n",
    "import plotly.express as px\n",
    "import pandas as pd\n",
    "from waitress import serve\n",
    "import numpy as np\n",
    "import dash_bootstrap_components as dbc\n"
   ]
  },
  {
   "cell_type": "code",
   "execution_count": null,
   "id": "0d5338b6",
   "metadata": {},
   "outputs": [],
   "source": [
    "#| export\n",
    "\n",
    "from buy_and_hold_vs_arima.arima_stats import create_auto_arima_prediction_future_2\n",
    "from buy_and_hold_vs_arima.arima_stats import create_dataframe_with_series\n",
    "from buy_and_hold_vs_arima.arima_stats import top_score\n",
    "from buy_and_hold_vs_arima.arima_stats import get_top_players\n",
    "from buy_and_hold_vs_arima.arima_stats import create_dataframe"
   ]
  },
  {
   "cell_type": "code",
   "execution_count": null,
   "id": "febd3b76",
   "metadata": {},
   "outputs": [
    {
     "data": {
      "text/plain": [
       "'Hello HAHAHAHbarak'"
      ]
     },
     "execution_count": null,
     "metadata": {},
     "output_type": "execute_result"
    }
   ],
   "source": [
    "#| hide \n",
    "\n",
    "# how to import packages ! \n",
    "from buy_and_hold_vs_arima import arima_stats\n",
    "arima_stats.foo(\"barak\")"
   ]
  },
  {
   "cell_type": "code",
   "execution_count": null,
   "id": "864cbc7d",
   "metadata": {},
   "outputs": [
    {
     "data": {
      "text/plain": [
       "['__builtins__',\n",
       " '__cached__',\n",
       " '__doc__',\n",
       " '__file__',\n",
       " '__loader__',\n",
       " '__name__',\n",
       " '__package__',\n",
       " '__path__',\n",
       " '__spec__',\n",
       " '__version__',\n",
       " 'arima_stats']"
      ]
     },
     "execution_count": null,
     "metadata": {},
     "output_type": "execute_result"
    }
   ],
   "source": [
    "#help(buy_and_hold_vs_arima)\n",
    "#buy_and_hold_vs_arima.foo(\"hba\")\n",
    "dir(buy_and_hold_vs_arima)\n",
    "#dir(np)"
   ]
  },
  {
   "cell_type": "code",
   "execution_count": null,
   "id": "66bba727",
   "metadata": {},
   "outputs": [],
   "source": [
    "barak = [1,2,3]\n",
    "diker = [3,4,5]"
   ]
  },
  {
   "cell_type": "code",
   "execution_count": null,
   "id": "b0643a43",
   "metadata": {},
   "outputs": [
    {
     "name": "stdout",
     "output_type": "stream",
     "text": [
      "LUMI.TA\n",
      "DSCT.TA\n",
      "BEZQ.TA\n",
      "CEL.TA\n",
      "ESLT.TA\n",
      "NICE.TA\n",
      "TEVA.TA\n",
      "POLI.TA\n",
      "MZTF.TA\n",
      "FIBI.TA\n",
      "HARL.TA\n",
      "MGDL.TA\n",
      "CLIS.TA\n",
      "PHOE.TA\n",
      "MMHD.TA\n",
      "DRS.TA\n",
      "BSEN.TA\n",
      "HLAN.TA\n",
      "FTAL.TA\n",
      "DANE.TA\n",
      "ONE.TA\n",
      "MTRX.TA\n",
      "ALHE.TA\n",
      "UWAY.TA\n",
      "ICL.TA\n",
      "TA35.TA\n",
      "TA90.TA\n"
     ]
    },
    {
     "data": {
      "text/html": [
       "<div>\n",
       "<style scoped>\n",
       "    .dataframe tbody tr th:only-of-type {\n",
       "        vertical-align: middle;\n",
       "    }\n",
       "\n",
       "    .dataframe tbody tr th {\n",
       "        vertical-align: top;\n",
       "    }\n",
       "\n",
       "    .dataframe thead th {\n",
       "        text-align: right;\n",
       "    }\n",
       "</style>\n",
       "<table border=\"1\" class=\"dataframe\">\n",
       "  <thead>\n",
       "    <tr style=\"text-align: right;\">\n",
       "      <th></th>\n",
       "      <th>LUMI.TA</th>\n",
       "      <th>DSCT.TA</th>\n",
       "      <th>BEZQ.TA</th>\n",
       "      <th>CEL.TA</th>\n",
       "      <th>ESLT.TA</th>\n",
       "      <th>NICE.TA</th>\n",
       "      <th>TEVA.TA</th>\n",
       "      <th>POLI.TA</th>\n",
       "      <th>MZTF.TA</th>\n",
       "      <th>FIBI.TA</th>\n",
       "      <th>...</th>\n",
       "      <th>HLAN.TA</th>\n",
       "      <th>FTAL.TA</th>\n",
       "      <th>DANE.TA</th>\n",
       "      <th>ONE.TA</th>\n",
       "      <th>MTRX.TA</th>\n",
       "      <th>ALHE.TA</th>\n",
       "      <th>UWAY.TA</th>\n",
       "      <th>ICL.TA</th>\n",
       "      <th>TA35.TA</th>\n",
       "      <th>TA90.TA</th>\n",
       "    </tr>\n",
       "    <tr>\n",
       "      <th>Date</th>\n",
       "      <th></th>\n",
       "      <th></th>\n",
       "      <th></th>\n",
       "      <th></th>\n",
       "      <th></th>\n",
       "      <th></th>\n",
       "      <th></th>\n",
       "      <th></th>\n",
       "      <th></th>\n",
       "      <th></th>\n",
       "      <th></th>\n",
       "      <th></th>\n",
       "      <th></th>\n",
       "      <th></th>\n",
       "      <th></th>\n",
       "      <th></th>\n",
       "      <th></th>\n",
       "      <th></th>\n",
       "      <th></th>\n",
       "      <th></th>\n",
       "      <th></th>\n",
       "    </tr>\n",
       "  </thead>\n",
       "  <tbody>\n",
       "    <tr>\n",
       "      <th>2021-12-23 00:00:00+02:00</th>\n",
       "      <td>3036.396093</td>\n",
       "      <td>1939.435791</td>\n",
       "      <td>457.284202</td>\n",
       "      <td>1726.0</td>\n",
       "      <td>53626.103053</td>\n",
       "      <td>97900.0</td>\n",
       "      <td>2669.0</td>\n",
       "      <td>2942.037955</td>\n",
       "      <td>10904.792969</td>\n",
       "      <td>11150.006583</td>\n",
       "      <td>...</td>\n",
       "      <td>20583.587891</td>\n",
       "      <td>32670.0</td>\n",
       "      <td>62505.157280</td>\n",
       "      <td>5520.862205</td>\n",
       "      <td>8681.778129</td>\n",
       "      <td>5178.287095</td>\n",
       "      <td>NaN</td>\n",
       "      <td>2571.331603</td>\n",
       "      <td>1955.449951</td>\n",
       "      <td>2299.679932</td>\n",
       "    </tr>\n",
       "    <tr>\n",
       "      <th>2021-12-26 00:00:00+02:00</th>\n",
       "      <td>3068.717385</td>\n",
       "      <td>1947.827357</td>\n",
       "      <td>461.258971</td>\n",
       "      <td>1749.0</td>\n",
       "      <td>53327.624895</td>\n",
       "      <td>98270.0</td>\n",
       "      <td>2688.0</td>\n",
       "      <td>2954.049848</td>\n",
       "      <td>10979.226913</td>\n",
       "      <td>11220.798522</td>\n",
       "      <td>...</td>\n",
       "      <td>21093.275817</td>\n",
       "      <td>32290.0</td>\n",
       "      <td>63429.716848</td>\n",
       "      <td>5426.970315</td>\n",
       "      <td>8734.254312</td>\n",
       "      <td>5191.267304</td>\n",
       "      <td>NaN</td>\n",
       "      <td>2587.649248</td>\n",
       "      <td>NaN</td>\n",
       "      <td>NaN</td>\n",
       "    </tr>\n",
       "    <tr>\n",
       "      <th>2021-12-27 00:00:00+02:00</th>\n",
       "      <td>3056.712158</td>\n",
       "      <td>1943.165471</td>\n",
       "      <td>469.763153</td>\n",
       "      <td>1748.0</td>\n",
       "      <td>53695.745676</td>\n",
       "      <td>97840.0</td>\n",
       "      <td>2692.0</td>\n",
       "      <td>2938.342446</td>\n",
       "      <td>10904.792712</td>\n",
       "      <td>11265.043945</td>\n",
       "      <td>...</td>\n",
       "      <td>20799.226213</td>\n",
       "      <td>31090.0</td>\n",
       "      <td>66091.298214</td>\n",
       "      <td>5541.518555</td>\n",
       "      <td>8630.221220</td>\n",
       "      <td>5277.494517</td>\n",
       "      <td>NaN</td>\n",
       "      <td>2598.814209</td>\n",
       "      <td>1964.819946</td>\n",
       "      <td>2302.199951</td>\n",
       "    </tr>\n",
       "    <tr>\n",
       "      <th>2021-12-28 00:00:00+02:00</th>\n",
       "      <td>3132.437718</td>\n",
       "      <td>1958.084246</td>\n",
       "      <td>478.359741</td>\n",
       "      <td>1777.0</td>\n",
       "      <td>53844.979079</td>\n",
       "      <td>97480.0</td>\n",
       "      <td>2740.0</td>\n",
       "      <td>2954.974445</td>\n",
       "      <td>11053.662257</td>\n",
       "      <td>11388.932346</td>\n",
       "      <td>...</td>\n",
       "      <td>20456.166402</td>\n",
       "      <td>31840.0</td>\n",
       "      <td>67725.597570</td>\n",
       "      <td>5633.533944</td>\n",
       "      <td>8727.811598</td>\n",
       "      <td>5459.221318</td>\n",
       "      <td>NaN</td>\n",
       "      <td>2688.132229</td>\n",
       "      <td>1995.949951</td>\n",
       "      <td>2331.409912</td>\n",
       "    </tr>\n",
       "    <tr>\n",
       "      <th>2021-12-29 00:00:00+02:00</th>\n",
       "      <td>3159.218514</td>\n",
       "      <td>1967.408418</td>\n",
       "      <td>481.595050</td>\n",
       "      <td>1771.0</td>\n",
       "      <td>54113.611892</td>\n",
       "      <td>97630.0</td>\n",
       "      <td>2714.0</td>\n",
       "      <td>3000.250484</td>\n",
       "      <td>11211.838921</td>\n",
       "      <td>11450.878245</td>\n",
       "      <td>...</td>\n",
       "      <td>20142.511170</td>\n",
       "      <td>31340.0</td>\n",
       "      <td>67576.175402</td>\n",
       "      <td>5597.854552</td>\n",
       "      <td>8678.096216</td>\n",
       "      <td>5485.182674</td>\n",
       "      <td>NaN</td>\n",
       "      <td>2674.391178</td>\n",
       "      <td>1995.260010</td>\n",
       "      <td>2315.979980</td>\n",
       "    </tr>\n",
       "    <tr>\n",
       "      <th>...</th>\n",
       "      <td>...</td>\n",
       "      <td>...</td>\n",
       "      <td>...</td>\n",
       "      <td>...</td>\n",
       "      <td>...</td>\n",
       "      <td>...</td>\n",
       "      <td>...</td>\n",
       "      <td>...</td>\n",
       "      <td>...</td>\n",
       "      <td>...</td>\n",
       "      <td>...</td>\n",
       "      <td>...</td>\n",
       "      <td>...</td>\n",
       "      <td>...</td>\n",
       "      <td>...</td>\n",
       "      <td>...</td>\n",
       "      <td>...</td>\n",
       "      <td>...</td>\n",
       "      <td>...</td>\n",
       "      <td>...</td>\n",
       "      <td>...</td>\n",
       "    </tr>\n",
       "    <tr>\n",
       "      <th>2023-10-01 00:00:00+03:00</th>\n",
       "      <td>3125.142578</td>\n",
       "      <td>2047.730225</td>\n",
       "      <td>522.805664</td>\n",
       "      <td>1232.0</td>\n",
       "      <td>75761.531250</td>\n",
       "      <td>64510.0</td>\n",
       "      <td>3863.0</td>\n",
       "      <td>3362.548584</td>\n",
       "      <td>13743.335938</td>\n",
       "      <td>16261.638672</td>\n",
       "      <td>...</td>\n",
       "      <td>19750.000000</td>\n",
       "      <td>38400.0</td>\n",
       "      <td>31220.000000</td>\n",
       "      <td>4760.299316</td>\n",
       "      <td>7800.000000</td>\n",
       "      <td>2575.937988</td>\n",
       "      <td>5111.0</td>\n",
       "      <td>2085.234131</td>\n",
       "      <td>1873.150024</td>\n",
       "      <td>2012.650024</td>\n",
       "    </tr>\n",
       "    <tr>\n",
       "      <th>2023-10-02 00:00:00+03:00</th>\n",
       "      <td>3202.502638</td>\n",
       "      <td>2123.314331</td>\n",
       "      <td>534.488503</td>\n",
       "      <td>1265.0</td>\n",
       "      <td>78429.825938</td>\n",
       "      <td>66110.0</td>\n",
       "      <td>3910.0</td>\n",
       "      <td>3426.048901</td>\n",
       "      <td>13832.902047</td>\n",
       "      <td>16480.315797</td>\n",
       "      <td>...</td>\n",
       "      <td>20640.000000</td>\n",
       "      <td>38700.0</td>\n",
       "      <td>31700.000000</td>\n",
       "      <td>4898.120605</td>\n",
       "      <td>8049.000000</td>\n",
       "      <td>2679.567798</td>\n",
       "      <td>5750.0</td>\n",
       "      <td>2182.221786</td>\n",
       "      <td>1877.969971</td>\n",
       "      <td>2025.979980</td>\n",
       "    </tr>\n",
       "    <tr>\n",
       "      <th>2023-10-03 00:00:00+03:00</th>\n",
       "      <td>3184.650424</td>\n",
       "      <td>2104.418261</td>\n",
       "      <td>521.832092</td>\n",
       "      <td>1253.0</td>\n",
       "      <td>77960.126419</td>\n",
       "      <td>67210.0</td>\n",
       "      <td>3880.0</td>\n",
       "      <td>3404.220741</td>\n",
       "      <td>13852.805789</td>\n",
       "      <td>16609.533956</td>\n",
       "      <td>...</td>\n",
       "      <td>20560.000000</td>\n",
       "      <td>38550.0</td>\n",
       "      <td>32050.000000</td>\n",
       "      <td>4898.120714</td>\n",
       "      <td>8141.000000</td>\n",
       "      <td>2634.168004</td>\n",
       "      <td>5810.0</td>\n",
       "      <td>2176.283737</td>\n",
       "      <td>1869.569946</td>\n",
       "      <td>2022.380005</td>\n",
       "    </tr>\n",
       "    <tr>\n",
       "      <th>2023-10-04 00:00:00+03:00</th>\n",
       "      <td>3160.847357</td>\n",
       "      <td>2087.511366</td>\n",
       "      <td>525.799988</td>\n",
       "      <td>1222.0</td>\n",
       "      <td>78150.007812</td>\n",
       "      <td>65650.0</td>\n",
       "      <td>3747.0</td>\n",
       "      <td>3361.556256</td>\n",
       "      <td>13822.950182</td>\n",
       "      <td>16599.594174</td>\n",
       "      <td>...</td>\n",
       "      <td>20160.000000</td>\n",
       "      <td>37810.0</td>\n",
       "      <td>31340.000000</td>\n",
       "      <td>4813.841282</td>\n",
       "      <td>7923.000000</td>\n",
       "      <td>2548.303439</td>\n",
       "      <td>6000.0</td>\n",
       "      <td>2162.428405</td>\n",
       "      <td>1842.630005</td>\n",
       "      <td>1976.680054</td>\n",
       "    </tr>\n",
       "    <tr>\n",
       "      <th>2023-10-05 00:00:00+03:00</th>\n",
       "      <td>3153.904752</td>\n",
       "      <td>2081.544096</td>\n",
       "      <td>524.400024</td>\n",
       "      <td>1224.0</td>\n",
       "      <td>79399.203125</td>\n",
       "      <td>66140.0</td>\n",
       "      <td>3568.0</td>\n",
       "      <td>3361.556211</td>\n",
       "      <td>13842.853651</td>\n",
       "      <td>16629.414564</td>\n",
       "      <td>...</td>\n",
       "      <td>19910.000000</td>\n",
       "      <td>37700.0</td>\n",
       "      <td>31720.000000</td>\n",
       "      <td>4813.841182</td>\n",
       "      <td>7981.000000</td>\n",
       "      <td>2552.251221</td>\n",
       "      <td>6097.0</td>\n",
       "      <td>2158.469631</td>\n",
       "      <td>1838.479980</td>\n",
       "      <td>1972.410034</td>\n",
       "    </tr>\n",
       "  </tbody>\n",
       "</table>\n",
       "<p>221 rows × 27 columns</p>\n",
       "</div>"
      ],
      "text/plain": [
       "                               LUMI.TA      DSCT.TA     BEZQ.TA  CEL.TA  \\\n",
       "Date                                                                      \n",
       "2021-12-23 00:00:00+02:00  3036.396093  1939.435791  457.284202  1726.0   \n",
       "2021-12-26 00:00:00+02:00  3068.717385  1947.827357  461.258971  1749.0   \n",
       "2021-12-27 00:00:00+02:00  3056.712158  1943.165471  469.763153  1748.0   \n",
       "2021-12-28 00:00:00+02:00  3132.437718  1958.084246  478.359741  1777.0   \n",
       "2021-12-29 00:00:00+02:00  3159.218514  1967.408418  481.595050  1771.0   \n",
       "...                                ...          ...         ...     ...   \n",
       "2023-10-01 00:00:00+03:00  3125.142578  2047.730225  522.805664  1232.0   \n",
       "2023-10-02 00:00:00+03:00  3202.502638  2123.314331  534.488503  1265.0   \n",
       "2023-10-03 00:00:00+03:00  3184.650424  2104.418261  521.832092  1253.0   \n",
       "2023-10-04 00:00:00+03:00  3160.847357  2087.511366  525.799988  1222.0   \n",
       "2023-10-05 00:00:00+03:00  3153.904752  2081.544096  524.400024  1224.0   \n",
       "\n",
       "                                ESLT.TA  NICE.TA  TEVA.TA      POLI.TA  \\\n",
       "Date                                                                     \n",
       "2021-12-23 00:00:00+02:00  53626.103053  97900.0   2669.0  2942.037955   \n",
       "2021-12-26 00:00:00+02:00  53327.624895  98270.0   2688.0  2954.049848   \n",
       "2021-12-27 00:00:00+02:00  53695.745676  97840.0   2692.0  2938.342446   \n",
       "2021-12-28 00:00:00+02:00  53844.979079  97480.0   2740.0  2954.974445   \n",
       "2021-12-29 00:00:00+02:00  54113.611892  97630.0   2714.0  3000.250484   \n",
       "...                                 ...      ...      ...          ...   \n",
       "2023-10-01 00:00:00+03:00  75761.531250  64510.0   3863.0  3362.548584   \n",
       "2023-10-02 00:00:00+03:00  78429.825938  66110.0   3910.0  3426.048901   \n",
       "2023-10-03 00:00:00+03:00  77960.126419  67210.0   3880.0  3404.220741   \n",
       "2023-10-04 00:00:00+03:00  78150.007812  65650.0   3747.0  3361.556256   \n",
       "2023-10-05 00:00:00+03:00  79399.203125  66140.0   3568.0  3361.556211   \n",
       "\n",
       "                                MZTF.TA       FIBI.TA  ...       HLAN.TA  \\\n",
       "Date                                                   ...                 \n",
       "2021-12-23 00:00:00+02:00  10904.792969  11150.006583  ...  20583.587891   \n",
       "2021-12-26 00:00:00+02:00  10979.226913  11220.798522  ...  21093.275817   \n",
       "2021-12-27 00:00:00+02:00  10904.792712  11265.043945  ...  20799.226213   \n",
       "2021-12-28 00:00:00+02:00  11053.662257  11388.932346  ...  20456.166402   \n",
       "2021-12-29 00:00:00+02:00  11211.838921  11450.878245  ...  20142.511170   \n",
       "...                                 ...           ...  ...           ...   \n",
       "2023-10-01 00:00:00+03:00  13743.335938  16261.638672  ...  19750.000000   \n",
       "2023-10-02 00:00:00+03:00  13832.902047  16480.315797  ...  20640.000000   \n",
       "2023-10-03 00:00:00+03:00  13852.805789  16609.533956  ...  20560.000000   \n",
       "2023-10-04 00:00:00+03:00  13822.950182  16599.594174  ...  20160.000000   \n",
       "2023-10-05 00:00:00+03:00  13842.853651  16629.414564  ...  19910.000000   \n",
       "\n",
       "                           FTAL.TA       DANE.TA       ONE.TA      MTRX.TA  \\\n",
       "Date                                                                         \n",
       "2021-12-23 00:00:00+02:00  32670.0  62505.157280  5520.862205  8681.778129   \n",
       "2021-12-26 00:00:00+02:00  32290.0  63429.716848  5426.970315  8734.254312   \n",
       "2021-12-27 00:00:00+02:00  31090.0  66091.298214  5541.518555  8630.221220   \n",
       "2021-12-28 00:00:00+02:00  31840.0  67725.597570  5633.533944  8727.811598   \n",
       "2021-12-29 00:00:00+02:00  31340.0  67576.175402  5597.854552  8678.096216   \n",
       "...                            ...           ...          ...          ...   \n",
       "2023-10-01 00:00:00+03:00  38400.0  31220.000000  4760.299316  7800.000000   \n",
       "2023-10-02 00:00:00+03:00  38700.0  31700.000000  4898.120605  8049.000000   \n",
       "2023-10-03 00:00:00+03:00  38550.0  32050.000000  4898.120714  8141.000000   \n",
       "2023-10-04 00:00:00+03:00  37810.0  31340.000000  4813.841282  7923.000000   \n",
       "2023-10-05 00:00:00+03:00  37700.0  31720.000000  4813.841182  7981.000000   \n",
       "\n",
       "                               ALHE.TA  UWAY.TA       ICL.TA      TA35.TA  \\\n",
       "Date                                                                        \n",
       "2021-12-23 00:00:00+02:00  5178.287095      NaN  2571.331603  1955.449951   \n",
       "2021-12-26 00:00:00+02:00  5191.267304      NaN  2587.649248          NaN   \n",
       "2021-12-27 00:00:00+02:00  5277.494517      NaN  2598.814209  1964.819946   \n",
       "2021-12-28 00:00:00+02:00  5459.221318      NaN  2688.132229  1995.949951   \n",
       "2021-12-29 00:00:00+02:00  5485.182674      NaN  2674.391178  1995.260010   \n",
       "...                                ...      ...          ...          ...   \n",
       "2023-10-01 00:00:00+03:00  2575.937988   5111.0  2085.234131  1873.150024   \n",
       "2023-10-02 00:00:00+03:00  2679.567798   5750.0  2182.221786  1877.969971   \n",
       "2023-10-03 00:00:00+03:00  2634.168004   5810.0  2176.283737  1869.569946   \n",
       "2023-10-04 00:00:00+03:00  2548.303439   6000.0  2162.428405  1842.630005   \n",
       "2023-10-05 00:00:00+03:00  2552.251221   6097.0  2158.469631  1838.479980   \n",
       "\n",
       "                               TA90.TA  \n",
       "Date                                    \n",
       "2021-12-23 00:00:00+02:00  2299.679932  \n",
       "2021-12-26 00:00:00+02:00          NaN  \n",
       "2021-12-27 00:00:00+02:00  2302.199951  \n",
       "2021-12-28 00:00:00+02:00  2331.409912  \n",
       "2021-12-29 00:00:00+02:00  2315.979980  \n",
       "...                                ...  \n",
       "2023-10-01 00:00:00+03:00  2012.650024  \n",
       "2023-10-02 00:00:00+03:00  2025.979980  \n",
       "2023-10-03 00:00:00+03:00  2022.380005  \n",
       "2023-10-04 00:00:00+03:00  1976.680054  \n",
       "2023-10-05 00:00:00+03:00  1972.410034  \n",
       "\n",
       "[221 rows x 27 columns]"
      ]
     },
     "execution_count": null,
     "metadata": {},
     "output_type": "execute_result"
    }
   ],
   "source": [
    "#| export \n",
    "\n",
    "\n",
    "#companies = ['AMZN','NFLX','GOOG']\n",
    "companies = [\n",
    "    \"LUMI.TA\",\n",
    "    \"DSCT.TA\",\n",
    "    \"BEZQ.TA\",\n",
    "    \"CEL.TA\",\n",
    "    \"ESLT.TA\",\n",
    "    \"NICE.TA\",\n",
    "    \"TEVA.TA\",\n",
    "    \"POLI.TA\",\n",
    "    \"MZTF.TA\",\n",
    "    \"FIBI.TA\",\n",
    "    \"HARL.TA\",\n",
    "    \"MGDL.TA\",\n",
    "    \"CLIS.TA\",\n",
    "    \"PHOE.TA\",\n",
    "    \"MMHD.TA\",\n",
    "    \"DRS.TA\",\n",
    "    \"BSEN.TA\",\n",
    "    \"HLAN.TA\",\n",
    "    \"FTAL.TA\",\n",
    "    \"DANE.TA\",\n",
    "    \"ONE.TA\",\n",
    "    \"MTRX.TA\",\n",
    "    \"ALHE.TA\",\n",
    "    \"UWAY.TA\",\n",
    "    \"ICL.TA\",\n",
    "    \"TA35.TA\",\n",
    "    \"TA90.TA\",\n",
    "]\n",
    "\n",
    "#companies = companies + ticker_stocks\n",
    "\n",
    "\n",
    "\n",
    "tickers = [yf.Ticker(ticker).history( start='2021-12-10')['High'].rename(ticker) for ticker in companies]\n",
    "df = pd.concat(tickers, axis=1)\n",
    "df\n",
    "\n",
    "for a in df.columns:\n",
    "    print(a)\n",
    "    \n",
    "df[['LUMI.TA','ICL.TA']]\n",
    "df['LUMI.TA'][df['LUMI.TA'] > 3000]"
   ]
  },
  {
   "cell_type": "code",
   "execution_count": null,
   "id": "d60d50d5",
   "metadata": {},
   "outputs": [
    {
     "data": {
      "text/plain": [
       "Date\n",
       "2021-12-12 00:00:00+02:00    False\n",
       "2021-12-13 00:00:00+02:00    False\n",
       "2021-12-14 00:00:00+02:00    False\n",
       "2021-12-15 00:00:00+02:00    False\n",
       "2021-12-16 00:00:00+02:00    False\n",
       "                             ...  \n",
       "2023-12-19 00:00:00+02:00    False\n",
       "2023-12-20 00:00:00+02:00    False\n",
       "2023-12-21 00:00:00+02:00    False\n",
       "2023-12-24 00:00:00+02:00    False\n",
       "2023-12-25 00:00:00+02:00    False\n",
       "Name: LUMI.TA, Length: 504, dtype: bool"
      ]
     },
     "execution_count": null,
     "metadata": {},
     "output_type": "execute_result"
    }
   ],
   "source": [
    "df['LUMI.TA'].apply(lambda a: a > 3000)"
   ]
  },
  {
   "cell_type": "code",
   "execution_count": null,
   "id": "4cf1e508",
   "metadata": {},
   "outputs": [],
   "source": [
    "#| export\n",
    "\n",
    "# http://127.0.0.1:8050/\n",
    "\n",
    "#df = px.data.gapminder()\n",
    "#df.columns\n",
    "\n",
    "\n",
    "\n",
    "external_stylesheets = [\"https://codepen.io/chriddyp/pen/bWLwgP.css\"]\n",
    "app = dash.Dash(__name__, external_stylesheets=external_stylesheets)\n",
    "\n",
    "app.layout = html.Div(\n",
    "    [\n",
    "        dcc.Markdown('''\n",
    "        # Comparing Arima model and Buy and Hold strategy\n",
    "        This is final project of master's degree in Haifa University \n",
    "        '''),\n",
    "        dcc.Dropdown(\n",
    "            id=\"dpdn2\",\n",
    "            value=[\"ICL.TA\", \"LUMI.TA\"],\n",
    "            multi=True,\n",
    "            options=[{\"label\": x, \"value\": x} for x in df.columns],\n",
    "        ),\n",
    "         dbc.Row(\n",
    "            \n",
    "               # dcc.Graph(id=\"pie-graph\", figure={}, className=\"six columns\"),\n",
    "                dcc.Graph(\n",
    "                    id=\"my-graph\",\n",
    "                    figure={},\n",
    "                    clickData=None,\n",
    "                    hoverData=None,\n",
    "                    config={\n",
    "                        \"staticPlot\": False,  # True, False\n",
    "                        \"scrollZoom\": True,  # True, False\n",
    "                        \"doubleClick\": \"reset\",  # 'reset', 'autosize' or 'reset+autosize', False\n",
    "                        \"showTips\": False,  # True, False\n",
    "                        \"displayModeBar\": True,  # True, False, 'hover'\n",
    "                        \"watermark\": True,\n",
    "                        # 'modeBarButtonsToAdd': ['pan2d','select2d'],\n",
    "                    },\n",
    "                    #className=\"six columns\",\n",
    "                ),\n",
    "           ),\n",
    "            dbc.Row(\n",
    "                dcc.Graph(\n",
    "                    id=\"basic-graph\",\n",
    "                    figure={},\n",
    "                    clickData=None,\n",
    "                    hoverData=None,\n",
    "                    config={\n",
    "                        \"staticPlot\": False,  # True, False\n",
    "                        \"scrollZoom\": True,  # True, False\n",
    "                        \"doubleClick\": \"reset\",  # 'reset', 'autosize' or 'reset+autosize', False\n",
    "                        \"showTips\": False,  # True, False\n",
    "                        \"displayModeBar\": True,  # True, False, 'hover'\n",
    "                        \"watermark\": True,\n",
    "                        # 'modeBarButtonsToAdd': ['pan2d','select2d'],\n",
    "                    },\n",
    "                    #className=\"six columns\",\n",
    "                ),\n",
    "            ),\n",
    "        dbc.Row(\n",
    "            # Values is the initial values\n",
    "            # first arg and second arg are the overall range , third is the jumps \n",
    "                dcc.RangeSlider(0, len(df) - 1 , 1, count=1, value=[(len(df) - 1)*3//4, len(df) - 1] , id=\"range-inference\") \n",
    "        ),\n",
    "        dbc.Row(\n",
    "            dcc.Graph(\n",
    "                    id=\"inference-graph\",\n",
    "                    figure={},\n",
    "                    clickData=None,\n",
    "                    hoverData=None,\n",
    "                    config={\n",
    "                        \"staticPlot\": False,  # True, False\n",
    "                        \"scrollZoom\": True,  # True, False\n",
    "                        \"doubleClick\": \"reset\",  # 'reset', 'autosize' or 'reset+autosize', False\n",
    "                        \"showTips\": False,  # True, False\n",
    "                        \"displayModeBar\": True,  # True, False, 'hover'\n",
    "                        \"watermark\": True,\n",
    "                        # 'modeBarButtonsToAdd': ['pan2d','select2d'],\n",
    "                    },\n",
    "                    #className=\"six columns\",\n",
    "                ),\n",
    "        ),\n",
    "        \n",
    "        \n",
    "    ]\n",
    ")\n",
    "\n",
    "\n",
    "@app.callback(\n",
    "    Output(component_id=\"my-graph\", component_property=\"figure\"),\n",
    "    Input(component_id=\"dpdn2\", component_property=\"value\"),\n",
    ")\n",
    "def update_graph(country_chosen):\n",
    "    #age_sex = titanic[[\"Age\", \"Sex\"]]\n",
    "    print(country_chosen)\n",
    "    \n",
    "    dff = df[country_chosen]\n",
    "    predication_data = pd.concat([create_dataframe_with_series(create_auto_arima_prediction_future_2 , dff[country]).rename(columns={\"High\": country, \"pred\": country +\"pred\"}) for country in country_chosen])\n",
    "   \n",
    "    fig = px.line(\n",
    "        predication_data,\n",
    "        #dff,\n",
    "        #x=\"Date[Days]\",\n",
    "        #y=\"Stock[agora]\",\n",
    "        #color=\"country\",\n",
    "        #custom_data=[\"country\", \"continent\", \"lifeExp\", \"pop\"],\n",
    "    )\n",
    "    fig.update_traces(mode=\"lines+markers\")\n",
    "    return fig\n",
    "\n",
    "@app.callback(\n",
    "    Output(component_id=\"inference-graph\", component_property=\"figure\"),\n",
    "    Input('range-inference', 'value'),\n",
    "    Input(component_id=\"dpdn2\", component_property=\"value\"),\n",
    ")\n",
    "def update_output(slider_value,country_chosen):\n",
    "    #print(value)\n",
    "    dff = df[country_chosen]\n",
    "    first_date_infer = dff.index[slider_value[0]]\n",
    "    last_date_infer = dff.index[slider_value[1]]\n",
    "    predication = pd.DataFrame()\n",
    "    #concated_data = dff[country][first_date_infer:last_date_infer].copy()\n",
    "    predication = pd.concat([create_dataframe_with_series(create_auto_arima_prediction_future_2 , dff[country][first_date_infer:last_date_infer].copy()).rename(columns={\"High\": country, \"pred\": country +\"pred\"}) for country in country_chosen])\n",
    "    #predication.drop(country_chosen, axis=1)\n",
    "    for country in country_chosen:\n",
    "        predication[country + \"True\"] = dff[country][last_date_infer:]\n",
    "    fig_global = px.line(\n",
    "        predication,\n",
    "        #x=\"Dates\",\n",
    "        #y=[\"Global Minimum Reg\", \"High\"],\n",
    "        #hover_data={\"Dates\": \"|%B %d, %Y\"},\n",
    "        title=\"Inference BackTester\",\n",
    "    )\n",
    "\n",
    "    fig_global.add_vline(\n",
    "        x=first_date_infer, line_dash=\"dash\", line_color=\"Blue\"\n",
    "    )\n",
    "    fig_global.add_annotation(x=first_date_infer, text=str(first_date_infer))\n",
    "\n",
    "    fig_global.add_vline(\n",
    "        x=last_date_infer, line_dash=\"dash\", line_color=\"Blue\"\n",
    "    )\n",
    "    fig_global.add_annotation(x=last_date_infer, text=str(last_date_infer))\n",
    "    \n",
    "    ####################  what stocks to choose \n",
    "    #date = \"2022-12-13\"\n",
    "    date = last_date_infer\n",
    "    dict_best_to_invest = top_score(df,date,top=3)\n",
    "    total_profit_of_best = sum(dict_best_to_invest.values())\n",
    "    print(\"ARIMA expected profits are: \" , total_profit_of_best)\n",
    "\n",
    "    sum_arima_true = 0 \n",
    "    if len(df.loc[date:]) > 30:\n",
    "        for series in dict_best_to_invest:\n",
    "            print(series) # The Stocks to invest \n",
    "            sum_arima_true += df[series].loc[date:].iloc[30] - df[series].loc[date:].iloc[0]\n",
    "        print(\"ARIMA True profits are :\" ,sum_arima_true )\n",
    "    df_ta35 = create_dataframe(['TA35.TA'])\n",
    "    if len(df_ta35.loc[date:]) > 30:\n",
    "        ta35_profit = df_ta35.loc[date:].iloc[30] - df_ta35.loc[date:].iloc[0]\n",
    "        print(\"TA35 Values profits are :\" , ta35_profit.item())\n",
    "    ####################\n",
    "    \n",
    "    return fig_global\n",
    "\n",
    "\n",
    "@app.callback(\n",
    "    Output(component_id=\"basic-graph\", component_property=\"figure\"),\n",
    "    Input(component_id=\"dpdn2\", component_property=\"value\"),\n",
    ")\n",
    "def update_graph(country_chosen):\n",
    "    #age_sex = titanic[[\"Age\", \"Sex\"]]\n",
    "    \n",
    "    dff = df[country_chosen]\n",
    "    fig = px.line(\n",
    "        dff,\n",
    "        #dff,\n",
    "        #x=\"Date[Days]\",\n",
    "        #y=\"Stock[agora]\",\n",
    "        #color=\"country\",\n",
    "        #custom_data=[\"country\", \"continent\", \"lifeExp\", \"pop\"],\n",
    "    )\n",
    "    fig.update_traces(mode=\"lines+markers\")\n",
    "    return fig\n",
    "\n",
    "\n",
    "\n",
    "\n"
   ]
  },
  {
   "cell_type": "code",
   "execution_count": null,
   "id": "ce502f88",
   "metadata": {},
   "outputs": [],
   "source": [
    "#| hide\n",
    "#if __name__ == \"__main__\":\n",
    "#    app.run_server(debug=False)\n"
   ]
  },
  {
   "cell_type": "code",
   "execution_count": null,
   "id": "ab61e532",
   "metadata": {},
   "outputs": [],
   "source": [
    "#| export \n",
    "\n",
    "def run_server(port=8050):\n",
    "    serve(app.server, host=\"0.0.0.0\", port=port, threads=2)\n"
   ]
  },
  {
   "cell_type": "code",
   "execution_count": null,
   "id": "2d02253e",
   "metadata": {},
   "outputs": [
    {
     "name": "stdout",
     "output_type": "stream",
     "text": [
      "Dash is running on http://127.0.0.1:8050/\n",
      "\n",
      " * Serving Flask app '__main__'\n",
      " * Debug mode: off\n"
     ]
    },
    {
     "name": "stderr",
     "output_type": "stream",
     "text": [
      "\u001b[31m\u001b[1mWARNING: This is a development server. Do not use it in a production deployment. Use a production WSGI server instead.\u001b[0m\n",
      " * Running on http://127.0.0.1:8050\n",
      "\u001b[33mPress CTRL+C to quit\u001b[0m\n",
      "127.0.0.1 - - [25/Dec/2023 10:01:40] \"GET / HTTP/1.1\" 200 -\n",
      "127.0.0.1 - - [25/Dec/2023 10:01:40] \"GET /_dash-component-suites/dash/deps/polyfill@7.v2_7_0m1677970696.12.1.min.js HTTP/1.1\" 200 -\n",
      "127.0.0.1 - - [25/Dec/2023 10:01:40] \"GET /_dash-component-suites/dash/deps/react-dom@16.v2_7_0m1677970696.14.0.min.js HTTP/1.1\" 200 -\n",
      "127.0.0.1 - - [25/Dec/2023 10:01:40] \"GET /_dash-component-suites/dash/deps/react@16.v2_7_0m1677970696.14.0.min.js HTTP/1.1\" 200 -\n",
      "127.0.0.1 - - [25/Dec/2023 10:01:40] \"GET /_dash-component-suites/dash/deps/prop-types@15.v2_7_0m1677970696.8.1.min.js HTTP/1.1\" 200 -\n",
      "127.0.0.1 - - [25/Dec/2023 10:01:40] \"GET /_dash-component-suites/dash/dash-renderer/build/dash_renderer.v2_7_0m1677970696.min.js HTTP/1.1\" 200 -\n",
      "127.0.0.1 - - [25/Dec/2023 10:01:40] \"GET /_dash-component-suites/dash_bootstrap_components/_components/dash_bootstrap_components.v1_5_0m1694087134.min.js HTTP/1.1\" 200 -\n",
      "127.0.0.1 - - [25/Dec/2023 10:01:40] \"GET /_dash-component-suites/dash/dash_table/bundle.v5_2_0m1677970696.js HTTP/1.1\" 200 -\n",
      "127.0.0.1 - - [25/Dec/2023 10:01:40] \"GET /_dash-component-suites/dash/dcc/dash_core_components.v2_7_0m1677970696.js HTTP/1.1\" 200 -\n",
      "127.0.0.1 - - [25/Dec/2023 10:01:40] \"GET /_dash-component-suites/dash/dcc/dash_core_components-shared.v2_7_0m1677970696.js HTTP/1.1\" 200 -\n",
      "127.0.0.1 - - [25/Dec/2023 10:01:40] \"GET /_dash-component-suites/dash/html/dash_html_components.v2_0_6m1677970696.min.js HTTP/1.1\" 200 -\n",
      "127.0.0.1 - - [25/Dec/2023 10:01:41] \"GET /_dash-layout HTTP/1.1\" 200 -\n",
      "127.0.0.1 - - [25/Dec/2023 10:01:41] \"GET /_dash-dependencies HTTP/1.1\" 200 -\n",
      "127.0.0.1 - - [25/Dec/2023 10:01:41] \"GET /_favicon.ico?v=2.7.0 HTTP/1.1\" 200 -\n",
      "127.0.0.1 - - [25/Dec/2023 10:01:41] \"GET /_dash-component-suites/dash/dcc/async-markdown.js HTTP/1.1\" 200 -\n",
      "127.0.0.1 - - [25/Dec/2023 10:01:41] \"GET /_dash-component-suites/dash/dcc/async-graph.js HTTP/1.1\" 200 -\n",
      "127.0.0.1 - - [25/Dec/2023 10:01:41] \"GET /_dash-component-suites/dash/dcc/async-dropdown.js HTTP/1.1\" 200 -\n",
      "127.0.0.1 - - [25/Dec/2023 10:01:41] \"GET /_dash-component-suites/dash/dcc/async-slider.js HTTP/1.1\" 200 -\n",
      "127.0.0.1 - - [25/Dec/2023 10:01:41] \"GET /_dash-component-suites/dash/dcc/async-plotlyjs.js HTTP/1.1\" 200 -\n",
      "127.0.0.1 - - [25/Dec/2023 10:01:41] \"GET /_dash-component-suites/dash/dcc/async-highlight.js HTTP/1.1\" 200 -\n"
     ]
    },
    {
     "name": "stdout",
     "output_type": "stream",
     "text": [
      "['ICL.TA', 'LUMI.TA']\n"
     ]
    },
    {
     "name": "stderr",
     "output_type": "stream",
     "text": [
      "/Users/barakdiker/anaconda3/lib/python3.11/site-packages/_plotly_utils/basevalidators.py:106: FutureWarning:\n",
      "\n",
      "The behavior of DatetimeProperties.to_pydatetime is deprecated, in a future version this will return a Series containing python datetime objects instead of an ndarray. To retain the old behavior, call `np.array` on the result\n",
      "\n",
      "127.0.0.1 - - [25/Dec/2023 10:01:41] \"POST /_dash-update-component HTTP/1.1\" 200 -\n",
      "/Users/barakdiker/anaconda3/lib/python3.11/site-packages/_plotly_utils/basevalidators.py:106: FutureWarning:\n",
      "\n",
      "The behavior of DatetimeProperties.to_pydatetime is deprecated, in a future version this will return a Series containing python datetime objects instead of an ndarray. To retain the old behavior, call `np.array` on the result\n",
      "\n",
      "/Users/barakdiker/anaconda3/lib/python3.11/site-packages/_plotly_utils/basevalidators.py:106: FutureWarning:\n",
      "\n",
      "The behavior of DatetimeProperties.to_pydatetime is deprecated, in a future version this will return a Series containing python datetime objects instead of an ndarray. To retain the old behavior, call `np.array` on the result\n",
      "\n",
      "127.0.0.1 - - [25/Dec/2023 10:01:43] \"POST /_dash-update-component HTTP/1.1\" 200 -\n"
     ]
    },
    {
     "name": "stdout",
     "output_type": "stream",
     "text": [
      "ARIMA expected profits are:  2392.8396041107935\n"
     ]
    },
    {
     "name": "stderr",
     "output_type": "stream",
     "text": [
      "127.0.0.1 - - [25/Dec/2023 10:01:49] \"POST /_dash-update-component HTTP/1.1\" 200 -\n",
      "/Users/barakdiker/anaconda3/lib/python3.11/site-packages/_plotly_utils/basevalidators.py:106: FutureWarning:\n",
      "\n",
      "The behavior of DatetimeProperties.to_pydatetime is deprecated, in a future version this will return a Series containing python datetime objects instead of an ndarray. To retain the old behavior, call `np.array` on the result\n",
      "\n"
     ]
    },
    {
     "name": "stdout",
     "output_type": "stream",
     "text": [
      "ARIMA expected profits are:  2392.8396041107935\n"
     ]
    },
    {
     "name": "stderr",
     "output_type": "stream",
     "text": [
      "127.0.0.1 - - [25/Dec/2023 10:02:02] \"POST /_dash-update-component HTTP/1.1\" 200 -\n",
      "/Users/barakdiker/anaconda3/lib/python3.11/site-packages/_plotly_utils/basevalidators.py:106: FutureWarning:\n",
      "\n",
      "The behavior of DatetimeProperties.to_pydatetime is deprecated, in a future version this will return a Series containing python datetime objects instead of an ndarray. To retain the old behavior, call `np.array` on the result\n",
      "\n"
     ]
    },
    {
     "name": "stdout",
     "output_type": "stream",
     "text": [
      "ARIMA expected profits are:  2392.8396041107935\n"
     ]
    },
    {
     "name": "stderr",
     "output_type": "stream",
     "text": [
      "127.0.0.1 - - [25/Dec/2023 10:02:12] \"POST /_dash-update-component HTTP/1.1\" 200 -\n",
      "/Users/barakdiker/anaconda3/lib/python3.11/site-packages/_plotly_utils/basevalidators.py:106: FutureWarning:\n",
      "\n",
      "The behavior of DatetimeProperties.to_pydatetime is deprecated, in a future version this will return a Series containing python datetime objects instead of an ndarray. To retain the old behavior, call `np.array` on the result\n",
      "\n",
      "/Users/barakdiker/anaconda3/lib/python3.11/site-packages/_plotly_utils/basevalidators.py:106: FutureWarning:\n",
      "\n",
      "The behavior of DatetimeProperties.to_pydatetime is deprecated, in a future version this will return a Series containing python datetime objects instead of an ndarray. To retain the old behavior, call `np.array` on the result\n",
      "\n",
      "127.0.0.1 - - [25/Dec/2023 10:02:38] \"POST /_dash-update-component HTTP/1.1\" 200 -\n"
     ]
    },
    {
     "name": "stdout",
     "output_type": "stream",
     "text": [
      "['ICL.TA', 'LUMI.TA', 'CEL.TA']\n"
     ]
    },
    {
     "name": "stderr",
     "output_type": "stream",
     "text": [
      "/Users/barakdiker/anaconda3/lib/python3.11/site-packages/_plotly_utils/basevalidators.py:106: FutureWarning:\n",
      "\n",
      "The behavior of DatetimeProperties.to_pydatetime is deprecated, in a future version this will return a Series containing python datetime objects instead of an ndarray. To retain the old behavior, call `np.array` on the result\n",
      "\n",
      "/Users/barakdiker/anaconda3/lib/python3.11/site-packages/_plotly_utils/basevalidators.py:106: FutureWarning:\n",
      "\n",
      "The behavior of DatetimeProperties.to_pydatetime is deprecated, in a future version this will return a Series containing python datetime objects instead of an ndarray. To retain the old behavior, call `np.array` on the result\n",
      "\n",
      "127.0.0.1 - - [25/Dec/2023 10:02:39] \"POST /_dash-update-component HTTP/1.1\" 200 -\n"
     ]
    },
    {
     "name": "stdout",
     "output_type": "stream",
     "text": [
      "ARIMA expected profits are:  2392.8396041107935\n"
     ]
    },
    {
     "name": "stderr",
     "output_type": "stream",
     "text": [
      "127.0.0.1 - - [25/Dec/2023 10:02:45] \"POST /_dash-update-component HTTP/1.1\" 200 -\n",
      "/Users/barakdiker/anaconda3/lib/python3.11/site-packages/_plotly_utils/basevalidators.py:106: FutureWarning:\n",
      "\n",
      "The behavior of DatetimeProperties.to_pydatetime is deprecated, in a future version this will return a Series containing python datetime objects instead of an ndarray. To retain the old behavior, call `np.array` on the result\n",
      "\n"
     ]
    },
    {
     "name": "stdout",
     "output_type": "stream",
     "text": [
      "ARIMA expected profits are:  2392.8396041107935\n"
     ]
    },
    {
     "name": "stderr",
     "output_type": "stream",
     "text": [
      "127.0.0.1 - - [25/Dec/2023 10:02:59] \"POST /_dash-update-component HTTP/1.1\" 200 -\n",
      "/Users/barakdiker/anaconda3/lib/python3.11/site-packages/_plotly_utils/basevalidators.py:106: FutureWarning:\n",
      "\n",
      "The behavior of DatetimeProperties.to_pydatetime is deprecated, in a future version this will return a Series containing python datetime objects instead of an ndarray. To retain the old behavior, call `np.array` on the result\n",
      "\n"
     ]
    },
    {
     "name": "stdout",
     "output_type": "stream",
     "text": [
      "ARIMA expected profits are:  7917.260075906255\n",
      "NICE.TA\n",
      "FTAL.TA\n",
      "DANE.TA\n",
      "ARIMA True profits are : 19970.0\n"
     ]
    },
    {
     "name": "stderr",
     "output_type": "stream",
     "text": [
      "127.0.0.1 - - [25/Dec/2023 10:15:18] \"POST /_dash-update-component HTTP/1.1\" 200 -\n"
     ]
    },
    {
     "name": "stdout",
     "output_type": "stream",
     "text": [
      "TA35 Values profits are : 194.9100341796875\n"
     ]
    },
    {
     "name": "stderr",
     "output_type": "stream",
     "text": [
      "/Users/barakdiker/anaconda3/lib/python3.11/site-packages/_plotly_utils/basevalidators.py:106: FutureWarning:\n",
      "\n",
      "The behavior of DatetimeProperties.to_pydatetime is deprecated, in a future version this will return a Series containing python datetime objects instead of an ndarray. To retain the old behavior, call `np.array` on the result\n",
      "\n"
     ]
    },
    {
     "name": "stdout",
     "output_type": "stream",
     "text": [
      "ARIMA expected profits are:  1623.7803645664558\n",
      "DANE.TA\n",
      "CLIS.TA\n",
      "HARL.TA\n",
      "ARIMA True profits are : 150.0\n"
     ]
    },
    {
     "name": "stderr",
     "output_type": "stream",
     "text": [
      "127.0.0.1 - - [25/Dec/2023 10:15:32] \"POST /_dash-update-component HTTP/1.1\" 200 -\n"
     ]
    },
    {
     "name": "stdout",
     "output_type": "stream",
     "text": [
      "TA35 Values profits are : 39.3599853515625\n"
     ]
    },
    {
     "name": "stderr",
     "output_type": "stream",
     "text": [
      "/Users/barakdiker/anaconda3/lib/python3.11/site-packages/_plotly_utils/basevalidators.py:106: FutureWarning:\n",
      "\n",
      "The behavior of DatetimeProperties.to_pydatetime is deprecated, in a future version this will return a Series containing python datetime objects instead of an ndarray. To retain the old behavior, call `np.array` on the result\n",
      "\n"
     ]
    },
    {
     "name": "stdout",
     "output_type": "stream",
     "text": [
      "ARIMA expected profits are:  1623.7803645664558\n",
      "DANE.TA\n",
      "CLIS.TA\n",
      "HARL.TA\n",
      "ARIMA True profits are : 150.0\n"
     ]
    },
    {
     "name": "stderr",
     "output_type": "stream",
     "text": [
      "127.0.0.1 - - [25/Dec/2023 10:16:32] \"POST /_dash-update-component HTTP/1.1\" 200 -\n"
     ]
    },
    {
     "name": "stdout",
     "output_type": "stream",
     "text": [
      "TA35 Values profits are : 39.3599853515625\n"
     ]
    },
    {
     "name": "stderr",
     "output_type": "stream",
     "text": [
      "/Users/barakdiker/anaconda3/lib/python3.11/site-packages/_plotly_utils/basevalidators.py:106: FutureWarning:\n",
      "\n",
      "The behavior of DatetimeProperties.to_pydatetime is deprecated, in a future version this will return a Series containing python datetime objects instead of an ndarray. To retain the old behavior, call `np.array` on the result\n",
      "\n"
     ]
    },
    {
     "name": "stdout",
     "output_type": "stream",
     "text": [
      "ARIMA expected profits are:  1623.7803645664558\n",
      "DANE.TA\n",
      "CLIS.TA\n",
      "HARL.TA\n",
      "ARIMA True profits are : 150.0\n"
     ]
    },
    {
     "name": "stderr",
     "output_type": "stream",
     "text": [
      "127.0.0.1 - - [25/Dec/2023 10:16:42] \"POST /_dash-update-component HTTP/1.1\" 200 -\n"
     ]
    },
    {
     "name": "stdout",
     "output_type": "stream",
     "text": [
      "TA35 Values profits are : 39.3599853515625\n"
     ]
    },
    {
     "name": "stderr",
     "output_type": "stream",
     "text": [
      "/Users/barakdiker/anaconda3/lib/python3.11/site-packages/_plotly_utils/basevalidators.py:106: FutureWarning:\n",
      "\n",
      "The behavior of DatetimeProperties.to_pydatetime is deprecated, in a future version this will return a Series containing python datetime objects instead of an ndarray. To retain the old behavior, call `np.array` on the result\n",
      "\n"
     ]
    },
    {
     "name": "stdout",
     "output_type": "stream",
     "text": [
      "ARIMA expected profits are:  2323.9744933405455\n",
      "DANE.TA\n",
      "NICE.TA\n",
      "FTAL.TA\n",
      "ARIMA True profits are : 11850.0\n"
     ]
    },
    {
     "name": "stderr",
     "output_type": "stream",
     "text": [
      "127.0.0.1 - - [25/Dec/2023 10:17:10] \"POST /_dash-update-component HTTP/1.1\" 200 -\n"
     ]
    },
    {
     "name": "stdout",
     "output_type": "stream",
     "text": [
      "TA35 Values profits are : 66.6199951171875\n"
     ]
    },
    {
     "name": "stderr",
     "output_type": "stream",
     "text": [
      "/Users/barakdiker/anaconda3/lib/python3.11/site-packages/_plotly_utils/basevalidators.py:106: FutureWarning:\n",
      "\n",
      "The behavior of DatetimeProperties.to_pydatetime is deprecated, in a future version this will return a Series containing python datetime objects instead of an ndarray. To retain the old behavior, call `np.array` on the result\n",
      "\n"
     ]
    },
    {
     "name": "stdout",
     "output_type": "stream",
     "text": [
      "ARIMA expected profits are:  2323.9744933405455\n",
      "DANE.TA\n",
      "NICE.TA\n",
      "FTAL.TA\n",
      "ARIMA True profits are : 11850.0\n"
     ]
    },
    {
     "name": "stderr",
     "output_type": "stream",
     "text": [
      "127.0.0.1 - - [25/Dec/2023 10:17:23] \"POST /_dash-update-component HTTP/1.1\" 200 -\n"
     ]
    },
    {
     "name": "stdout",
     "output_type": "stream",
     "text": [
      "TA35 Values profits are : 66.6199951171875\n"
     ]
    },
    {
     "name": "stderr",
     "output_type": "stream",
     "text": [
      "/Users/barakdiker/anaconda3/lib/python3.11/site-packages/_plotly_utils/basevalidators.py:106: FutureWarning:\n",
      "\n",
      "The behavior of DatetimeProperties.to_pydatetime is deprecated, in a future version this will return a Series containing python datetime objects instead of an ndarray. To retain the old behavior, call `np.array` on the result\n",
      "\n"
     ]
    },
    {
     "name": "stdout",
     "output_type": "stream",
     "text": [
      "ARIMA expected profits are:  3590.148319908607\n",
      "HLAN.TA\n",
      "ESLT.TA\n",
      "FTAL.TA\n",
      "ARIMA True profits are : -549.3635441476326\n"
     ]
    },
    {
     "name": "stderr",
     "output_type": "stream",
     "text": [
      "127.0.0.1 - - [25/Dec/2023 10:17:31] \"POST /_dash-update-component HTTP/1.1\" 200 -\n"
     ]
    },
    {
     "name": "stdout",
     "output_type": "stream",
     "text": [
      "TA35 Values profits are : -46.72998046875\n"
     ]
    }
   ],
   "source": [
    "#| export\n",
    "if __name__ == \"__main__\":\n",
    "    app.run_server(debug=False)\n",
    "    #serve(app.server, host=\"0.0.0.0\", port=8050, threads=2)\n"
   ]
  },
  {
   "cell_type": "code",
   "execution_count": null,
   "id": "615b8a0e",
   "metadata": {},
   "outputs": [],
   "source": []
  },
  {
   "cell_type": "code",
   "execution_count": null,
   "id": "5aaaa6c1",
   "metadata": {},
   "outputs": [],
   "source": [
    "import nbdev; nbdev.nbdev_export()"
   ]
  },
  {
   "cell_type": "code",
   "execution_count": null,
   "id": "15ef8850",
   "metadata": {},
   "outputs": [],
   "source": []
  }
 ],
 "metadata": {
  "kernelspec": {
   "display_name": "python3",
   "language": "python",
   "name": "python3"
  }
 },
 "nbformat": 4,
 "nbformat_minor": 5
}
